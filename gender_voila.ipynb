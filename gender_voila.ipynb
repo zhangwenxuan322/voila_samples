{
 "cells": [
  {
   "cell_type": "code",
   "execution_count": null,
   "id": "442f6206",
   "metadata": {},
   "outputs": [],
   "source": [
    "!pip install voila\n",
    "!jupyter serverextension enable --sys-prefix voila "
   ]
  },
  {
   "cell_type": "code",
   "execution_count": null,
   "id": "f9fabd60",
   "metadata": {},
   "outputs": [],
   "source": [
    "!pip install -Uqq fastbook\n",
    "import fastbook"
   ]
  },
  {
   "cell_type": "code",
   "execution_count": null,
   "id": "d100c9e2",
   "metadata": {},
   "outputs": [],
   "source": [
    "from fastbook import *\n",
    "from fastai.vision.widgets import *"
   ]
  },
  {
   "cell_type": "markdown",
   "id": "79c8db6c",
   "metadata": {},
   "source": [
    "## Gender recognizer voila sample"
   ]
  },
  {
   "cell_type": "code",
   "execution_count": null,
   "id": "c76d9ad0",
   "metadata": {},
   "outputs": [],
   "source": [
    "path = Path()\n",
    "learn_inf = load_learner(path/'gender.pkl')"
   ]
  },
  {
   "cell_type": "markdown",
   "id": "34394ea3",
   "metadata": {},
   "source": [
    "Upload a face image:"
   ]
  },
  {
   "cell_type": "code",
   "execution_count": null,
   "id": "0393d0d6",
   "metadata": {},
   "outputs": [],
   "source": [
    "btn_upload = widgets.FileUpload()\n",
    "btn_upload"
   ]
  },
  {
   "cell_type": "code",
   "execution_count": null,
   "id": "2e7c3cf5",
   "metadata": {},
   "outputs": [],
   "source": [
    "img = PILImage.create(btn_upload.data[-1])\n",
    "img"
   ]
  },
  {
   "cell_type": "code",
   "execution_count": null,
   "id": "1fe047fb",
   "metadata": {},
   "outputs": [],
   "source": [
    "predict_btn = widgets.Button(description=\"Predict!\")\n",
    "output = widgets.Output()\n",
    "\n",
    "def on_btn_clicked(b):\n",
    "    with output:\n",
    "        pred,pred_idx,probs = learn_inf.predict(img)\n",
    "        print(f\"It's{probs[pred_idx]*100: .04f}% {pred}!\")\n",
    "predict_btn.on_click(on_btn_clicked)\n",
    "\n",
    "display(predict_btn, output)"
   ]
  }
 ],
 "metadata": {
  "kernelspec": {
   "display_name": "Python 3 (ipykernel)",
   "language": "python",
   "name": "python3"
  },
  "language_info": {
   "codemirror_mode": {
    "name": "ipython",
    "version": 3
   },
   "file_extension": ".py",
   "mimetype": "text/x-python",
   "name": "python",
   "nbconvert_exporter": "python",
   "pygments_lexer": "ipython3",
   "version": "3.7.11"
  }
 },
 "nbformat": 4,
 "nbformat_minor": 5
}
